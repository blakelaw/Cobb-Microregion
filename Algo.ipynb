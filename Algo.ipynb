{
 "cells": [
  {
   "cell_type": "code",
   "execution_count": 2,
   "metadata": {
    "ExecuteTime": {
     "end_time": "2023-09-22T06:27:16.163229Z",
     "start_time": "2023-09-22T06:27:15.993663Z"
    },
    "collapsed": false
   },
   "outputs": [
   ],
   "source": [
    "import pandas as pd\n",
    "from collections import defaultdict\n",
    "from itertools import combinations"
   ]
  },
  {
   "cell_type": "code",
   "execution_count": 3,
   "metadata": {
    "ExecuteTime": {
     "end_time": "2023-09-22T06:25:58.084064Z",
     "start_time": "2023-09-22T06:25:57.085055Z"
    },
    "collapsed": false
   },
   "outputs": [
   ],
   "source": [
    "\n",
    "\n",
    "# Read the main CSV file into a DataFrame\n",
    "df = pd.read_csv('CleanedDataCobb.csv')\n",
    "#df = pd.read_csv(\"CleanedDataPickens.csv\")\n",
    "#df = pd.read_csv(\"CleanedDataCherokee.csv\")\n",
    "df = df[~((df['Label'] == 11) & (df.duplicated(subset=['Name', 'Label'])))]\n",
    "df = df[df['Label'] != 20]\n",
    "\n",
    "# Read the list of top 10000 most common English words\n",
    "with open('google-10000-english-usa.txt', 'r') as f:\n",
    "    all_common_english_words = set(f.read().splitlines())\n",
    "\n",
    "# Initialize dictionaries to store the frequency of each root word across distinct categories and names\n",
    "all_root_word_frequency = defaultdict(set)\n",
    "all_root_word_count = defaultdict(int)\n",
    "\n",
    "# Tokenize the names and associate root words and their combinations with categories\n",
    "for index, row in df.iterrows():\n",
    "    name, category = row['Name'], row['Label']\n",
    "    tokens = name.split()\n",
    "\n",
    "        \n",
    "    for i in range(len(tokens)):\n",
    "        for j in range(i + 1, len(tokens) + 1):\n",
    "            root_word = ' '.join(tokens[i:j])\n",
    "            all_root_word_frequency[root_word].add(category)\n",
    "            all_root_word_count[root_word] += 1\n",
    "\n",
    "\n",
    "# Sort, filter, and format\n",
    "sorted_all_root_words = sorted(all_root_word_frequency.items(), key=lambda x: (len(x[1]), len(x[0])), reverse=True)\n",
    "filtered_root_words = [(root_word, categories) for root_word, categories in sorted_all_root_words if root_word.lower() not in all_common_english_words and len(root_word) > 1]\n",
    "filtered_result = [(root_word, len(categories), all_root_word_count[root_word]) for root_word, categories in filtered_root_words]\n",
    "\n",
    "# Create DataFrame\n",
    "filtered_df = pd.DataFrame(filtered_result, columns=['Root Word', 'Number of Categories', 'Number of Occurrences'])\n",
    "\n",
    "# Filter rows based on character conditions\n",
    "filtered_df = filtered_df[(filtered_df['Root Word'].str.len() > 2) & (~filtered_df['Root Word'].str.contains('[&-]'))]"
   ]
  },
  {
   "cell_type": "code",
   "execution_count": 0,
   "metadata": {
    "collapsed": false
   },
   "outputs": [
   ],
   "source": [
   ]
  },
  {
   "cell_type": "code",
   "execution_count": 0,
   "metadata": {
    "collapsed": false
   },
   "outputs": [
   ],
   "source": [
   ]
  },
  {
   "cell_type": "code",
   "execution_count": 4,
   "metadata": {
    "ExecuteTime": {
     "end_time": "2023-09-22T06:25:58.173540Z",
     "start_time": "2023-09-22T06:25:58.086710Z"
    },
    "collapsed": false
   },
   "outputs": [
   ],
   "source": [
    "# Add 'Number of Occurrences' to the filtered_df\n",
    "filtered_df['Number of Occurrences'] = filtered_df['Root Word'].apply(lambda x: all_root_word_count[x])\n",
    "\n",
    "# Filter out rows with 'Number of Categories' < 3\n",
    "filtered_df = filtered_df[filtered_df['Number of Categories'] >= 3]\n",
    "\n",
    "# Sort by the length of 'Root Word'\n",
    "filtered_df['length'] = filtered_df['Root Word'].apply(len)\n",
    "filtered_df = filtered_df.sort_values('length', ascending=False).drop('length', axis=1).reset_index(drop=True)\n",
    "\n",
    "# Initialize a list to hold the rows to keep\n",
    "rows_to_keep = []\n",
    "\n",
    "for i, row in filtered_df.iterrows():\n",
    "    root1 = row['Root Word']\n",
    "    count1 = row['Number of Categories']\n",
    "    occurrences1 = row['Number of Occurrences']\n",
    "    categories1 = all_root_word_frequency[root1]\n",
    "    \n",
    "    if ' ' not in root1:  # Only consider one-word roots for removal\n",
    "        should_remove = False\n",
    "        for j, row2 in filtered_df.iterrows():\n",
    "            root2 = row2['Root Word']\n",
    "            count2 = row2['Number of Categories']\n",
    "            if root1 in root2.split() and root1 != root2:\n",
    "                categories2 = all_root_word_frequency[root2]\n",
    "                if len(categories2) / len(categories1) >= 0.8:\n",
    "                    should_remove = True\n",
    "                    break\n",
    "        if not should_remove:\n",
    "            rows_to_keep.append((root1, count1, occurrences1))\n",
    "    else:\n",
    "        rows_to_keep.append((root1, count1, occurrences1))\n",
    "\n",
    "# Create the final DataFrame from the rows to keep\n",
    "final_filtered_df = pd.DataFrame(rows_to_keep, columns=['Root Word', 'Number of Categories', 'Number of Occurrences'])\n",
    "\n",
    "# Sort by 'Number of Categories' and 'Root Word'\n",
    "final_filtered_df = final_filtered_df.sort_values(by=['Number of Categories', 'Root Word'], ascending=[False, True])\n",
    "\n",
    "# Additional filtering based on character conditions\n",
    "final_filtered_df = final_filtered_df[(final_filtered_df['Root Word'].str.len() > 2) & (~final_filtered_df['Root Word'].str.contains('[&-]'))].reset_index(drop=True)"
   ]
  },
  {
   "cell_type": "code",
   "execution_count": 5,
   "metadata": {
    "ExecuteTime": {
     "end_time": "2023-09-22T06:25:58.244797Z",
     "start_time": "2023-09-22T06:25:58.177090Z"
    },
    "collapsed": false
   },
   "outputs": [
   ],
   "source": [
    "# Rank the rows based on 'Number of Categories' and 'Number of Occurrences'\n",
    "final_filtered_df['Cat_Rank'] = final_filtered_df['Number of Categories'].rank(method='min', ascending=False)\n",
    "final_filtered_df['Occ_Rank'] = final_filtered_df['Number of Occurrences'].rank(method='min', ascending=False)\n",
    "\n",
    "# Calculate the 'Score' based on the ranks\n",
    "final_filtered_df['Score'] = final_filtered_df['Cat_Rank'] * final_filtered_df['Occ_Rank']\n",
    "\n",
    "# Drop the temporary rank columns\n",
    "final_filtered_df.drop(['Cat_Rank', 'Occ_Rank'], axis=1, inplace=True)\n",
    "\n",
    "# Initialize a list to hold the rows to remove based on the 10% rule\n",
    "rows_to_remove = set()\n",
    "\n",
    "for i, row1 in final_filtered_df.iterrows():\n",
    "    root1, occurrences1 = row1['Root Word'], row1['Number of Occurrences']\n",
    "    if ' ' not in root1:  # Only consider one-word roots for comparison\n",
    "        for j, row2 in final_filtered_df.iterrows():\n",
    "            root2, occurrences2 = row2['Root Word'], row2['Number of Occurrences']\n",
    "            if root1 in root2.split() and root1 != root2:\n",
    "                if occurrences2 / occurrences1 < 0.10:\n",
    "                    rows_to_remove.add(root2)\n",
    "\n",
    "# Remove the rows that violate the 10% rule\n",
    "final_filtered_df = final_filtered_df[~final_filtered_df['Root Word'].isin(rows_to_remove)].reset_index(drop=True)\n",
    "\n",
    "# List of prepositions to filter out\n",
    "prepositions = ['of', 'at', 'in', 'by', 'for', 'with', 'on', 'to', 'about', 'against']\n",
    "\n",
    "# Remove rows starting with a preposition or with three characters\n",
    "final_filtered_df = final_filtered_df[~final_filtered_df['Root Word'].str.startswith(tuple(prepositions))]\n",
    "final_filtered_df = final_filtered_df[~(final_filtered_df['Root Word'].str.len() == 3)]\n",
    "\n",
    "# Reset index after filtering\n",
    "final_filtered_df.reset_index(drop=True, inplace=True)\n"
   ]
  },
  {
   "cell_type": "code",
   "execution_count": 6,
   "metadata": {
    "ExecuteTime": {
     "end_time": "2023-09-22T06:25:58.248121Z",
     "start_time": "2023-09-22T06:25:58.246935Z"
    },
    "collapsed": false
   },
   "outputs": [
   ],
   "source": [
    "# Function to calculate the points based on category\n",
    "def calculate_points(categories):\n",
    "    points = 0\n",
    "    for category in categories:\n",
    "        if category in [10, 6, 1]:\n",
    "            points += 10\n",
    "        elif category == 9:\n",
    "            points += 1\n",
    "        else:\n",
    "            points += 5\n",
    "    return points\n",
    "\n",
    "# Calculate 'Score2' for each row\n",
    "final_filtered_df['Score2'] = final_filtered_df['Root Word'].apply(lambda x: calculate_points(all_root_word_frequency[x]))\n",
    "\n"
   ]
  },
  {
   "cell_type": "code",
   "execution_count": 7,
   "metadata": {
    "ExecuteTime": {
     "end_time": "2023-09-22T06:25:58.255341Z",
     "start_time": "2023-09-22T06:25:58.250038Z"
    },
    "collapsed": false
   },
   "outputs": [
   ],
   "source": [
    "final_filtered_df\n",
    "final_filtered_df.to_csv(\"FinalFiltered.csv\",index=False)"
   ]
  },
  {
   "cell_type": "code",
   "execution_count": 8,
   "metadata": {
    "ExecuteTime": {
     "end_time": "2023-09-22T06:29:40.932603Z",
     "start_time": "2023-09-22T06:29:38.000859Z"
    },
    "collapsed": false
   },
   "outputs": [
    {
     "name": "stdout",
     "output_type": "stream",
     "text": [
      "Silhouette Score: 0.7263389155788527\n",
      "Membership Probabilities: [1.         0.64260321 0.76954623 1.         1.         1.\n",
      " 1.         0.70084081 1.         1.         0.79887914 1.\n",
      " 0.63596115 1.         1.         0.94389778 0.97631853 1.\n",
      " 1.         1.         1.         0.68966558 1.         1.\n",
      " 1.         0.82955837 0.978473   0.82031846 1.         1.\n",
      " 0.70209717 1.         0.35454362 1.         1.         0.87024052\n",
      " 0.96845807 1.         1.         0.68672219 0.49173484 1.\n",
      " 1.         1.         1.         1.         0.94130312 1.\n",
      " 1.         0.5218708  0.74622779 1.         1.         1.\n",
      " 0.19336747 1.         1.         1.         1.         0.5786924\n",
      " 1.         0.39593388 0.77889301 0.35408904 0.44359407 1.\n",
      " 1.         1.         1.         1.         1.         1.\n",
      " 0.85592881 1.         1.         1.         1.         0.61005371\n",
      " 1.         0.50054132 1.         1.         1.         1.\n",
      " 1.         1.         1.         0.67474651 1.         0.90345169\n",
      " 0.69211433 1.         0.90023842 0.90838332 1.         1.\n",
      " 1.         1.         1.         0.80474566 1.         1.\n",
      " 1.         1.         1.         1.         0.4170786  0.54321635\n",
      " 1.         1.         0.57993494 1.         1.         1.\n",
      " 0.72492626 0.76883562 1.         1.         1.         1.\n",
      " 0.74687265 1.         1.         0.61738407 1.         0.67235794\n",
      " 1.         0.79049198 1.         1.         1.         0.35379424\n",
      " 1.         0.64109366 0.88178733 1.         0.57057157 1.\n",
      " 1.         1.         1.         1.         1.         1.\n",
      " 1.         1.         0.96346754 1.         1.         0.73860431\n",
      " 1.         1.         1.         1.         1.         1.\n",
      " 1.         1.         1.         1.         1.         0.99578798\n",
      " 0.8395946  1.         1.         0.79887914 1.         1.\n",
      " 1.         1.         0.37963485 1.         1.         1.\n",
      " 1.         0.78405752 1.         0.85974583 1.         0.61287068\n",
      " 1.         1.         1.         0.22080427 1.         1.\n",
      " 1.         0.86470867 1.         1.         1.         1.\n",
      " 1.         0.54274583 0.52536533 1.         1.         1.\n",
      " 1.         1.         0.8452171  1.         1.         1.\n",
      " 1.         1.         1.         0.44633194 1.         0.4764316\n",
      " 1.         0.69875597 1.         1.         1.         0.74504917\n",
      " 1.         1.         1.         1.         1.         1.\n",
      " 1.         0.94626086 1.         1.         1.         0.78405752\n",
      " 1.         1.         0.25667445 1.         0.9049028  0.71667122\n",
      " 1.         1.         1.         1.         0.7482164  1.\n",
      " 0.62507579 1.         1.         1.         1.         1.\n",
      " 0.6546159  1.         0.63718527 1.         1.         1.\n",
      " 1.         1.         1.         1.         1.         1.\n",
      " 1.         0.62340401 0.94565475 1.         1.         0.51924509\n",
      " 1.         1.         0.84997389 1.         0.95683635 1.\n",
      " 0.46879087 1.         1.         1.         0.96845807 0.32481828\n",
      " 1.         1.         0.6177351  0.47498435 1.         1.\n",
      " 1.         1.         1.         1.         1.         1.\n",
      " 0.91032555 1.         1.         1.         1.         1.\n",
      " 1.         1.         1.         1.         0.88438346 0.65676709\n",
      " 1.         1.         1.         0.7152603  1.         1.\n",
      " 0.78058849 1.         1.         1.         1.         0.94302983\n",
      " 0.79976194 1.         1.         1.         1.         1.\n",
      " 0.45344126 1.         1.         1.         0.79976194 0.77434553\n",
      " 1.         0.31001232 0.92505332 1.         1.         1.\n",
      " 0.95452414 1.         1.         1.         1.         1.\n",
      " 0.76755236 1.         0.73778072 1.         0.8209516  1.\n",
      " 0.72202336 1.         1.         0.90246162 1.         0.69854167\n",
      " 1.         0.78023678 1.         0.5644781  1.         0.49294023\n",
      " 0.16484711 0.90609349 1.         1.         0.74504917 1.\n",
      " 0.71667122 0.79976194 0.90459673 1.         0.51924509 0.80879075\n",
      " 1.         1.         0.88032794 1.         0.81474626 0.5661747\n",
      " 1.         1.         0.94021681 0.94180181 0.53356737 1.\n",
      " 0.65344054 1.         1.         1.         1.         1.\n",
      " 1.         1.         0.86470867 1.         1.         0.67532926\n",
      " 1.         1.         1.         1.         1.         1.\n",
      " 0.91032555 0.86188716 1.         1.         1.         1.\n",
      " 1.         0.82801924 0.50737208 1.         1.         1.\n",
      " 0.40509809 1.         0.61415474 1.         1.         1.\n",
      " 1.         0.46473892 0.8532992  1.         1.         1.\n",
      " 1.         1.         1.         1.         1.         0.58802785\n",
      " 0.77189188 0.18400039 1.         1.         1.         0.64109366\n",
      " 1.         1.         1.         0.53190456 1.         1.\n",
      " 1.         1.         1.         1.         1.         0.88101221\n",
      " 1.         0.70532423 0.87677757 1.         1.         1.\n",
      " 0.91058044 0.9226998  1.         0.47856076 0.78185889 1.\n",
      " 0.9226998  1.         1.         1.         1.         1.\n",
      " 1.         1.         1.         1.         0.77372578 1.\n",
      " 0.40732217 0.74523916 1.         1.         1.         0.44009045\n",
      " 1.         1.         1.         1.         1.         1.\n",
      " 1.         0.9226998  1.         0.59751788 1.         1.\n",
      " 1.         1.         1.         1.         1.         1.\n",
      " 1.         1.         1.         0.33751174 0.28746308 1.\n",
      " 1.         1.         1.         0.54051211 0.44915627 0.66260477\n",
      " 1.         1.         1.         1.         1.         1.\n",
      " 1.         1.         1.         0.60496402 0.63649533 1.\n",
      " 1.         0.63643007 0.4696164  0.69277536 0.90372168 1.\n",
      " 1.         1.         1.         0.84337736 1.         0.79420475\n",
      " 1.         1.         1.         0.68674984 1.         1.\n",
      " 1.         0.87471784 1.         0.74504917 1.         0.93330085\n",
      " 1.         1.         0.69825281 0.77184587 1.         1.\n",
      " 1.         1.         1.         1.         0.76650919 1.\n",
      " 1.         0.50217898 1.         1.         0.88713348 1.\n",
      " 1.         1.         1.         1.         0.57932573 0.84011139\n",
      " 0.88388238 0.73463604 0.86834548 1.         1.         1.\n",
      " 1.         0.60084999 0.83013635 1.         1.         0.87618818\n",
      " 0.9784529  1.         1.         1.         1.         0.81521054\n",
      " 1.         1.         0.57118515 0.27578632 1.         1.\n",
      " 1.         1.         0.49803023 1.         1.         1.\n",
      " 1.         1.         0.9784529  1.         0.64109366 1.\n",
      " 1.         1.         1.         1.         1.         0.34800209\n",
      " 0.46224623 0.50839443 1.         1.         1.         1.\n",
      " 1.         1.         1.         1.         0.35221663 0.31092613\n",
      " 0.9997902  0.52988868 1.         1.         1.         1.\n",
      " 1.         1.         0.22964313 0.31404074 1.         0.69239437\n",
      " 1.         1.         1.         1.         1.         1.\n",
      " 0.74487824 1.         1.         1.         1.         1.\n",
      " 1.         1.         1.         1.         1.         1.\n",
      " 1.         1.         1.         1.         1.         0.74504917\n",
      " 0.85138963 1.         1.         1.         1.         0.73893826\n",
      " 1.         1.         0.9784529  1.         1.         1.\n",
      " 0.29827164 1.         1.         0.6075343  0.79716068 0.75540093\n",
      " 1.         1.         1.         1.         1.         1.\n",
      " 1.         1.         1.         0.67840451 0.77727692 0.79887914\n",
      " 0.57604745 1.         1.         1.         0.90592292 0.99890408\n",
      " 0.61287068 0.47911631 1.         1.         1.         1.\n",
      " 1.         1.         0.66590584 1.         0.82011138 1.\n",
      " 0.92894512 1.         1.         1.         1.         1.\n",
      " 1.         1.         1.         1.         1.         1.\n",
      " 1.         0.61019769 1.         1.         1.         1.\n",
      " 0.66373809 0.76592972 1.         1.         1.         1.\n",
      " 0.47498435 0.82236036 0.5239122  0.59547428 1.         1.\n",
      " 1.         1.         1.         1.         0.42937867 0.52663227\n",
      " 1.         1.         1.         0.95488244 1.         0.776672\n",
      " 0.71801262 1.         0.29838987 1.         1.         1.\n",
      " 1.         1.         1.         0.9933547  1.         1.\n",
      " 1.         1.         1.         1.         0.79887914 0.90744177\n",
      " 0.33712388 1.         0.65788116 1.         0.50950959 0.81986924\n",
      " 1.         1.         1.         1.         1.         0.63649533\n",
      " 0.90062995 1.         1.         1.         1.         0.82986023\n",
      " 0.6075343  1.         1.         1.         1.         0.90246162\n",
      " 1.         1.         0.99561924 0.27290316 1.         1.\n",
      " 0.9226998  0.47746344 1.         1.         1.         0.85482902\n",
      " 1.         1.         1.         1.         0.57606336 1.\n",
      " 1.         1.         0.91481323 1.         0.94507025 1.\n",
      " 0.5943272  1.         0.98011147 0.95654452 1.         1.\n",
      " 1.         1.         0.61689382 0.90246162 1.         1.\n",
      " 1.         1.         0.9252335  1.         1.         1.\n",
      " 1.         1.         0.5948386  0.89709209 1.         1.\n",
      " 1.         0.84936407 0.56870221 1.         1.         0.83209935\n",
      " 1.         1.         1.         0.88583845 1.         0.81172021\n",
      " 1.         1.         1.         1.         1.         1.\n",
      " 1.         0.82236036 0.90246162 1.         1.         1.\n",
      " 0.96192163 1.         1.         1.         1.         1.\n",
      " 0.93987309 1.         0.69825364 1.         1.         0.77946965\n",
      " 0.78952306 0.8738739  1.         0.50037551 1.         1.\n",
      " 1.         1.         1.         1.         0.42460217 0.9884557\n",
      " 1.         0.79976194 0.43948636 1.         1.         1.\n",
      " 1.         1.         1.         0.6177351  1.         0.87633345\n",
      " 1.         0.49766758 1.         0.8556618  1.         1.\n",
      " 0.64109366 0.80077427 1.         1.         1.         1.\n",
      " 1.         0.36203874 1.         1.         1.         0.90055747\n",
      " 0.87625518 0.99359178 1.         1.         0.56968275 1.\n",
      " 1.         1.         1.         1.         0.84279224 1.\n",
      " 0.96404973 0.89038353 1.         1.         1.         1.\n",
      " 1.         0.52656057 1.         0.87208526 1.         1.\n",
      " 1.         0.96845807 0.9221824  1.         1.         1.\n",
      " 0.64126338 1.         1.         1.         0.73825188 0.61287068\n",
      " 1.         1.         0.88324256 1.         1.         1.\n",
      " 1.         0.57617305 1.         0.40103899 0.58565983 1.\n",
      " 1.         1.         1.         0.96699057 1.         1.\n",
      " 1.         1.         0.93453015 0.92730654 1.         1.\n",
      " 0.32443042 0.84230119 1.         1.         1.         0.45734759\n",
      " 0.88388238 0.92853107 1.         1.         1.         1.\n",
      " 1.         1.         0.60790898 1.         1.         0.32977931\n",
      " 1.         0.67848701 1.         0.52658378 0.3744316  0.71150056\n",
      " 1.         0.97038385 1.         1.        ]\n"
     ]
    }
   ],
   "source": [
    "from sklearn.cluster import HDBSCAN\n",
    "from sklearn.datasets import make_blobs\n",
    "from sklearn.metrics import silhouette_score\n",
    "\n",
    "# Generate synthetic data\n",
    "data, _ = make_blobs(1000, centers=5)\n",
    "\n",
    "# Fit HDBSCAN model\n",
    "clusterer = HDBSCAN(min_cluster_size=5)\n",
    "clusterer.fit(data)\n",
    "\n",
    "# Get labels and probabilities\n",
    "labels = clusterer.labels_\n",
    "probabilities = clusterer.probabilities_\n",
    "\n",
    "# Calculate silhouette score\n",
    "sil_score = silhouette_score(data, labels)\n",
    "print(f\"Silhouette Score: {sil_score}\")\n",
    "\n",
    "# You can also inspect the `probabilities` to gauge the \"strength\" of each data point's membership in its cluster\n",
    "print(f\"Membership Probabilities: {probabilities}\")"
   ]
  }
 ],
 "metadata": {
  "kernelspec": {
   "argv": [
    "/usr/bin/python3",
    "-m",
    "ipykernel",
    "--HistoryManager.enabled=False",
    "--matplotlib=inline",
    "-c",
    "%config InlineBackend.figure_formats = set(['retina'])\nimport matplotlib; matplotlib.rcParams['figure.figsize'] = (12, 7)",
    "-f",
    "{connection_file}"
   ],
   "display_name": "Python 3 (system-wide)",
   "env": {
   },
   "language": "python",
   "metadata": {
    "cocalc": {
     "description": "Python 3 programming language",
     "priority": 100,
     "url": "https://www.python.org/"
    }
   },
   "name": "python3",
   "resource_dir": "/ext/jupyter/kernels/python3"
  },
  "language_info": {
   "codemirror_mode": {
    "name": "ipython",
    "version": 3
   },
   "file_extension": ".py",
   "mimetype": "text/x-python",
   "name": "python",
   "nbconvert_exporter": "python",
   "pygments_lexer": "ipython3",
   "version": "3.10.12"
  }
 },
 "nbformat": 4,
 "nbformat_minor": 4
}