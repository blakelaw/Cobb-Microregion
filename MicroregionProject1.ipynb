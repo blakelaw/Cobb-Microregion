{
 "cells": [
  {
   "cell_type": "code",
   "execution_count": 2,
   "metadata": {
    "collapsed": false
   },
   "outputs": [
   ],
   "source": [
    "import requests\n",
    "import json\n",
    "import time\n",
    "import pandas as pd\n",
    "from pandas.io.json import json_normalize\n",
    "import folium\n",
    "import numpy as np\n",
    "\n",
    "def coordinate(way):\n",
    "    overpass_url = \"http://overpass-api.de/api/interpreter\"\n",
    "    overpass_query = f\"[out:json];way({way});node(w);out;\"\n",
    "    try:\n",
    "        response = requests.get(overpass_url, params={'data': overpass_query})\n",
    "        response = response.json()\n",
    "        flat=flon=count=0\n",
    "        for i in (response['elements']):\n",
    "            flat+=i['lat']\n",
    "            flon+=i['lon']\n",
    "            count+=1\n",
    "        1/count\n",
    "    except:\n",
    "        print(\"Error\",way)\n",
    "        return (None, None)\n",
    "    return (flat/count, flon/count)\n",
    "\n",
    "def boundary(county):\n",
    "    boundaryset = []\n",
    "    overpass_url = \"http://overpass-api.de/api/interpreter\"\n",
    "    overpass_query = f\"[out:json];rel({county});out;\"\n",
    "    try:\n",
    "        response = requests.get(overpass_url, params={'data': overpass_query})\n",
    "        response = response.json()\n",
    "        for i in (response['elements'][0]['members']):\n",
    "            if(i['type']=='way' and i['role']=='outer'):\n",
    "                coord = coordinate(i['ref'])\n",
    "                if(coord[0]):\n",
    "                    boundaryset.append(coord)\n",
    "            time.sleep(1)\n",
    "    except:\n",
    "        print(\"Error\", county)\n",
    "        return None\n",
    "    return boundaryset\n",
    "\n",
    "def polystring(boundarylist):\n",
    "    string = \"\"\n",
    "    for i in boundarylist:\n",
    "        string+=str(i[0]) + \" \"\n",
    "        string+=str(i[1]) + \" \"\n",
    "    return string[:-1]\n",
    "\n",
    "#dfreduce method\n",
    "'''\n",
    "Input a dataframe and a settting and it outputs a reduced version of the dataframe\n",
    "settings:\n",
    "0 = node\n",
    "1 = way \n",
    "2 = relation\n",
    "\n",
    "'''\n",
    "def dfreduce(df,setting):\n",
    "    if(setting==0):\n",
    "        required_columns = [\"type\", \"id\", \"lat\", \"lon\", \"tags.name\", \"tags.amenity\",\n",
    "                        \"tags.place\", \"tags.natural\", \"tags.landuse\", \"tags.brand\",\"tags.shop\",\"tags.building\",\n",
    "                           \"tags.healthcare\"]\n",
    "        for col in required_columns:\n",
    "            if col not in df:\n",
    "                df[col] = None\n",
    "        return df[required_columns]\n",
    "    elif(setting==1):\n",
    "        required_columns = [\"type\",\"id\", \"nodes\", \"tags.name\", \"tags.highway\", \"tags.tiger:name_base\",\n",
    "                            \"tags.tiger:name_type\", \"tags.NHD:FTYPE\", \"tags.natural\", \"tags.waterway\", \n",
    "                            \"tags.landuse\", \"tags.addr:county\", \"tags.brand\", \"tags.shop\", \"tags.historic\", \n",
    "                            \"tags.leisure\", \"tags.building\",\"tags.amenity\",\"tags.man_made\",\"tags.healthcare\"]\n",
    "        for col in required_columns:\n",
    "            if col not in df:\n",
    "                df[col] = None\n",
    "        return df[required_columns]\n",
    "    elif(setting==2):\n",
    "        required_columns = [\"type\",\"id\", \"members\", \"tags.name\", \"tags.boundary\",\n",
    "                            \"tags.leisure\", \"tags.landuse\", \"tags.route\", \"tags.place\"]\n",
    "        for col in required_columns:\n",
    "            if col not in df:\n",
    "                df[col] = None\n",
    "        return df[required_columns]\n",
    "    else:\n",
    "        print(\"Invalid Setting\")\n",
    "        return None      \n",
    " \n",
    "#boundarydata method:\n",
    "'''\n",
    "Input a boundarylist, a list of list of latitudes and longitudes, e.g. \n",
    "[[33.930124, -84.737658], [33.969074, -84.698486], [33.950073, -84.665274]]\n",
    "and then pick a setting, to get all nodes, relations, or ways in that boundary\n",
    "outputted as a dataframe.\n",
    "\n",
    "Nodes = 0\n",
    "Ways = 1\n",
    "Relations = 2\n",
    "'''   \n",
    "    \n",
    "def boundarydata(boundarylist,setting):\n",
    "    boundarystring = polystring(boundarylist)\n",
    "    overpass_url = \"http://overpass-api.de/api/interpreter\"\n",
    "    if(setting==0):\n",
    "        overpass_query = f\"[out:json];node(poly:'{boundarystring}');out;\"\n",
    "        print(overpass_query)\n",
    "    elif(setting==1):\n",
    "        overpass_query = f\"[out:json];way(poly:'{boundarystring}');out;\"\n",
    "        print(overpass_query)\n",
    "    elif(setting==2):\n",
    "        overpass_query = f\"[out:json];relation['name'](poly:'{boundarystring}');out;\"\n",
    "        print(overpass_query)\n",
    "    else:\n",
    "        print(\"Invalid Setting\")\n",
    "        return None\n",
    "    try:\n",
    "        response = requests.get(overpass_url, params={'data': overpass_query})\n",
    "        response = response.json()\n",
    "        df = pd.json_normalize(response['elements'])\n",
    "    except Exception as e:\n",
    "        print(e)\n",
    "        return None\n",
    "    return df  \n",
    "def mapcoordinate(coordinates):\n",
    "    lattot = 0\n",
    "    longtot = 0\n",
    "    numcoord = len(coordinates)\n",
    "    for i in coordinates:\n",
    "        lattot += i[0]\n",
    "        longtot += i[1]\n",
    "    m = folium.Map(location=[lattot/numcoord, longtot/numcoord], zoom_start=12)\n",
    "    for coord in coordinates:\n",
    "        folium.Marker(coord).add_to(m)\n",
    "    m.save('map.html')\n",
    "    print(\"Ran Successfully\")\n",
    "    \n",
    "#cleaneddata method\n",
    "'''\n",
    "Input a boundary and this method will output a cleaned dataframe of the nodes, ways, and relations from\n",
    "that boundary with latitudes and longitudes and appropriate other metadata\n",
    "'''\n",
    "def cleaneddata(boundary):\n",
    "    print(time.time())\n",
    "    way_init = boundarydata(boundary, 1)\n",
    "    ways = dfreduce(way_init, 1).copy()\n",
    "    print(time.time())\n",
    "    ways.loc[:, 'lat'] = None\n",
    "    ways.loc[:, 'lon'] = None\n",
    "    node_init = boundarydata(boundary, 0)\n",
    "    nodes = dfreduce(node_init, 0).copy()\n",
    "    print(time.time())\n",
    "    ways['lat'] = ways['nodes'].apply(lambda node_list: nodes[nodes['id'].isin(node_list)]['lat'].mean())\n",
    "    ways['lon'] = ways['nodes'].apply(lambda node_list: nodes[nodes['id'].isin(node_list)]['lon'].mean())\n",
    "    '''\n",
    "    for index, row in ways.iterrows():\n",
    "        lat = lon = count = 0\n",
    "        for i in row[\"nodes\"]:\n",
    "            location = nodes.loc[nodes['id'] == i, ['lat', 'lon']]\n",
    "            if not location.empty:\n",
    "                lat += location.iloc[0]['lat']\n",
    "                lon += location.iloc[0]['lon']\n",
    "                count += 1\n",
    "        if count > 0:\n",
    "            ways.at[index, 'lat'] = lat / count\n",
    "            ways.at[index, 'lon'] = lon / count\n",
    "    '''\n",
    "    relation_init = boundarydata(boundary, 2)\n",
    "    relations = dfreduce(relation_init, 2).copy()\n",
    "    print(time.time())\n",
    "    for index, row in relations.iterrows():\n",
    "        lat = lon = count = 0\n",
    "        for i in row[\"members\"]:\n",
    "            if(i['type']=='node'):\n",
    "                location = nodes.loc[nodes['id'] == i['ref'], ['lat', 'lon']]\n",
    "            elif(i['type']=='way'):\n",
    "                location = ways.loc[ways['id'] == i['ref'], ['lat', 'lon']]\n",
    "            if not location.empty:\n",
    "                lat += location.iloc[0]['lat']\n",
    "                lon += location.iloc[0]['lon']\n",
    "                count += 1\n",
    "        if count > 0:\n",
    "            relations.at[index, 'lat'] = lat / count\n",
    "            relations.at[index, 'lon'] = lon / count\n",
    "    if 'lat' not in relations.columns:\n",
    "        relations['lat'] = np.nan\n",
    "    if 'lon' not in relations.columns:\n",
    "        relations['lon'] = np.nan\n",
    "    namedways = (ways[~(ways['tags.name'].isna() | ways['lat'].isna())])\n",
    "    namedways.drop('nodes', axis=1, inplace=True)\n",
    "    namednodes = (nodes[~(nodes['tags.name'].isna() | nodes['lat'].isna())])\n",
    "    namedrelations = (relations[~(relations['tags.name'].isna() | relations['lat'].isna())])\n",
    "    namedrelations.drop('members', axis=1, inplace=True)\n",
    "    print(time.time())\n",
    "    return namednodes, namedways, namedrelations\n",
    "\n",
    "def categorizedf(df):\n",
    "    required_columns = ['members', 'tags.tiger:name_type', 'tags.waterway', 'tags.leisure', \n",
    "                        'tags.landuse', 'tags.NHD:FTYPE', 'tags.natural', 'tags.tiger:name_base', \n",
    "                        'tags.man_made', 'tags.building', 'type', 'tags.name', 'tags.shop', 'tags.brand', \n",
    "                        'id', 'tags.place', 'nodes', 'tags.addr:county', 'lat', 'tags.amenity', 'tags.boundary', \n",
    "                        'tags.highway', 'tags.route', 'lon', 'tags.historic','tags.healthcare']\n",
    "    for col in required_columns:\n",
    "            if col not in df:\n",
    "                df[col] = None\n",
    "    columns = [\"Name\", \"X\", \"Y\", \"Label\"]\n",
    "    final = pd.DataFrame(columns=columns)\n",
    "    label = None\n",
    "    for index, row in df.iterrows():\n",
    "        if(row[\"tags.amenity\"] in [\"bar\",\"biergarten\",\"cafe\",\"fast_food\",\"food_court\",\"ice_cream\",\"pub\",\n",
    "        \"restaurant\", \"baking_oven\", \"internet_cafe\",\"kitchen\"] or row[\"tags.building\"] in [\"bakehouse\"]):\n",
    "            new_row_data = {\"Name\": row[\"tags.name\"],\"X\": row[\"lat\"],\"Y\": row[\"lon\"],\"Label\": 0}\n",
    "            new_row_df = pd.DataFrame([new_row_data], columns=columns)\n",
    "            final = pd.concat([final, new_row_df], ignore_index=True)\n",
    "            continue\n",
    "        if(row[\"tags.amenity\"] in [\"college\",\"dancing_school\",\"driving_school\",\"kindergarten\",\"language_school\",\"library\", \"surf_school\"\n",
    "                \"toy_library\",\"research_institute\",\"training\",\"music_school\",\"school\",\"traffic park\",\"university\"] or\n",
    "                row[\"tags.building\"] in [\"college\",\"kindergarten\",\"school\",\"university\"] or\n",
    "                row[\"tags.landuse\"] in [\"education\"]):\n",
    "            new_row_data = {\"Name\": row[\"tags.name\"],\"X\": row[\"lat\"],\"Y\": row[\"lon\"],\"Label\": 1}\n",
    "            new_row_df = pd.DataFrame([new_row_data], columns=columns)\n",
    "            final = pd.concat([final, new_row_df], ignore_index=True)\n",
    "            continue\n",
    "        if(row[\"tags.amenity\"] in [\"bicycle_parking\",\"bicycle_repair_station\",\"bicycle_rental\",\"boat_rental\",\"boat_sharing\",\n",
    "            \"bus_station\",\"car_rental\",\"car_sharing\",\"car_wash\",\"compressed_air\",\"vehicle_inspection\",\n",
    "            \"charging_station\",\"driver_training\",\"ferry_terminal\",\"fuel\",\"grit_bin\",\"motorcycle_parking\",\n",
    "            \"parking\",\"parking_entrance\",\"parking_space\",\"taxi\"] or row[\"tags.building\"] in [\"train_station\",\"transportation\"]):\n",
    "            new_row_data = {\"Name\": row[\"tags.name\"],\"X\": row[\"lat\"],\"Y\": row[\"lon\"],\"Label\": 2}\n",
    "            new_row_df = pd.DataFrame([new_row_data], columns=columns)\n",
    "            final = pd.concat([final, new_row_df], ignore_index=True)\n",
    "            continue\n",
    "        if(row[\"tags.amenity\"] in [\"atm\",\"bank\",\"bureau_de_change\"]):\n",
    "            new_row_data = {\"Name\": row[\"tags.name\"],\"X\": row[\"lat\"],\"Y\": row[\"lon\"],\"Label\": 3}\n",
    "            new_row_df = pd.DataFrame([new_row_data], columns=columns)\n",
    "            final = pd.concat([final, new_row_df], ignore_index=True)\n",
    "            continue\n",
    "        if(row[\"tags.amenity\"] in [\"baby_hatch\",\"clinic\",\"dentist\",\"doctors\",\"hospital\",\"nursing_home\",\n",
    "            \"pharmacy\",\"social_facility\",\"veterinary\", \"childcare\"] or row[\"tags.building\"] in [\"hospital\"]\n",
    "              or type(row[\"tags.healthcare\"])==str):\n",
    "            new_row_data = {\"Name\": row[\"tags.name\"],\"X\": row[\"lat\"],\"Y\": row[\"lon\"],\"Label\": 4}\n",
    "            new_row_df = pd.DataFrame([new_row_data], columns=columns)\n",
    "            final = pd.concat([final, new_row_df], ignore_index=True)\n",
    "            continue\n",
    "        if(row[\"tags.amenity\"] in [\"brothel\",\"casino\",\"gambling\",\"love_hotel\",\"nightclub\",\"stripclub\",\"swingerclub\"]):\n",
    "            new_row_data = {\"Name\": row[\"tags.name\"],\"X\": row[\"lat\"],\"Y\": row[\"lon\"],\"Label\": 5}\n",
    "            new_row_df = pd.DataFrame([new_row_data], columns=columns)\n",
    "            final = pd.concat([final, new_row_df], ignore_index=True)\n",
    "            continue\n",
    "        if(row[\"tags.amenity\"] in [\"arts_centre\",\"cinema\",\"community_centre\",\"conference_centre\",\"events_venue\",\"exhibition_centre\",\n",
    "            \"fountain\",\"music_venue\",\"planetarium\",\"public_bookcase\",\"social_centre\",\"studio\",\"theatre\"] or row[\"tags.building\"]\n",
    "              in [\"civic\",\"museum\",\"grandstand\",\"pavilion\",\"riding_hall\",\"sports_hall\",\"stadium\"] or type(row[\"tags.leisure\"])==str\n",
    "              or row[\"tags.landuse\"] in [\"fairground\",\"recreation_ground\",\"winter_sports\"]):\n",
    "            new_row_data = {\"Name\": row[\"tags.name\"],\"X\": row[\"lat\"],\"Y\": row[\"lon\"],\"Label\": 6}\n",
    "            new_row_df = pd.DataFrame([new_row_data], columns=columns)\n",
    "            final = pd.concat([final, new_row_df], ignore_index=True)\n",
    "            continue\n",
    "        if(row[\"tags.amenity\"] in [\"courthouse\",\"fire_station\",\"police\",\"prison\"] or row[\"tags.building\"] in\n",
    "           [\"fire_station\",\"military\"] or row[\"tags.landuse\"] in [\"military\"]):\n",
    "            new_row_data = {\"Name\": row[\"tags.name\"],\"X\": row[\"lat\"],\"Y\": row[\"lon\"],\"Label\": 7}\n",
    "            new_row_df = pd.DataFrame([new_row_data], columns=columns)\n",
    "            final = pd.concat([final, new_row_df], ignore_index=True)\n",
    "            continue\n",
    "        if(row[\"tags.amenity\"] in [\"post_box\",\"post_depot\",\"post_office\",\"ranger_station\",\"townhall\"] or \n",
    "          row[\"tags.building\"] in [\"government\",\"public\"]):\n",
    "            new_row_data = {\"Name\": row[\"tags.name\"],\"X\": row[\"lat\"],\"Y\": row[\"lon\"],\"Label\": 8}\n",
    "            new_row_df = pd.DataFrame([new_row_data], columns=columns)\n",
    "            final = pd.concat([final, new_row_df], ignore_index=True)\n",
    "            continue\n",
    "        if(row[\"tags.amenity\"] in [\"animal_boarding\",\"animal_breeding\",\"animal_shelter\",\"animal_training\", \"clock\", \"crematorium\", \"dive_centre\",\n",
    "            \"funeral_hall\",\"grave_yard\",\"hunting_stand\",\"kneipp_water_cure\",\"lounger\",\"photo_booth\",\"place_of_mourning\",\n",
    "            \"public_bath\",\"refugee_site\",\"vending_machine\"] or row[\"tags.building\"] in [\"bridge\",\"gatehouse\",\"toilets\",\"hangar\",\"hut\",\n",
    "            \"shed\",\"carport\",\"garage\",\"garages\",\"parking\",\"digester\",\"service\",\"transformer_tower\",\"water_tower\",\n",
    "            \"storage_tank\",\"silo\",\"construction\",\"container\",\"roof\",\"ruins\",\"yes\"] or type(row[\"tags.man_made\"])==str or\n",
    "              row[\"tags.landuse\"] in [\"brownfield\",\"cemetery\",\"conservation\",\"greenfield\",\"landfill\",\"village_green\"]):\n",
    "            new_row_data = {\"Name\": row[\"tags.name\"],\"X\": row[\"lat\"],\"Y\": row[\"lon\"],\"Label\": 9}\n",
    "            new_row_df = pd.DataFrame([new_row_data], columns=columns)\n",
    "            final = pd.concat([final, new_row_df], ignore_index=True)\n",
    "            continue\n",
    "        if(row[\"tags.amenity\"] in [\"monastery\",\"place_of_worship\"] or row[\"tags.building\"] in [\"cathedral\",\"chapel\",\"church\",\"kingdom_hall\",\n",
    "            \"monastery\",\"mosque\",\"presbytery\",\"religious\",\"shrine\",\"synagogue\",\"temple\"] or row[\"tags.landuse\"] in [\"religious\"]):\n",
    "            new_row_data = {\"Name\": row[\"tags.name\"],\"X\": row[\"lat\"],\"Y\": row[\"lon\"],\"Label\": 10}\n",
    "            new_row_df = pd.DataFrame([new_row_data], columns=columns)\n",
    "            final = pd.concat([final, new_row_df], ignore_index=True)\n",
    "            continue\n",
    "        if(type(row[\"tags.highway\"])==str):\n",
    "            new_row_data = {\"Name\": row[\"tags.name\"],\"X\": row[\"lat\"],\"Y\": row[\"lon\"],\"Label\": 11}\n",
    "            new_row_df = pd.DataFrame([new_row_data], columns=columns)\n",
    "            final = pd.concat([final, new_row_df], ignore_index=True)\n",
    "            continue\n",
    "        if(row[\"tags.building\"] in [\"bungalow\",\"cabin\",\"detached\",\"farm\",\"ger\",\"house\",\"houseboat\",\"residential\",\n",
    "            \"static_caravan\", \"stilt_house\",\"beach_hut\",\"tent\"] or row[\"tags.landuse\"] in [\"residential\"]):\n",
    "            new_row_data = {\"Name\": row[\"tags.name\"],\"X\": row[\"lat\"],\"Y\": row[\"lon\"],\"Label\": 12}\n",
    "            new_row_df = pd.DataFrame([new_row_data], columns=columns)\n",
    "            final = pd.concat([final, new_row_df], ignore_index=True)\n",
    "            continue\n",
    "        if(row[\"tags.building\"] in [\"apartments\",\"barracks\",\"dormitory\",\"hotel\",\"semidetached_house\",\"terrace\",\"bunker\"]):\n",
    "            new_row_data = {\"Name\": row[\"tags.name\"],\"X\": row[\"lat\"],\"Y\": row[\"lon\"],\"Label\": 13}\n",
    "            new_row_df = pd.DataFrame([new_row_data], columns=columns)\n",
    "            final = pd.concat([final, new_row_df], ignore_index=True)\n",
    "            continue\n",
    "        if(row[\"tags.building\"] in [\"castle\",\"tower\"] or type(row[\"tags.historic\"])==str or row[\"tags.boundary\"] in [\"marker\"]):\n",
    "            new_row_data = {\"Name\": row[\"tags.name\"],\"X\": row[\"lat\"],\"Y\": row[\"lon\"],\"Label\": 14}\n",
    "            new_row_df = pd.DataFrame([new_row_data], columns=columns)\n",
    "            final = pd.concat([final, new_row_df], ignore_index=True)\n",
    "            continue\n",
    "        if(row[\"tags.landuse\"] in [\"forest\",\"meadow\",\"orchard\",\"grass\"] or (type(row[\"tags.natural\"])==str and row[\"tags.natural\"]\n",
    "            not in [\"bay\",\"beach\",\"blowhole\",\"cape\",\"coastline\",\"crevasse\",\"geyser\",\"glacier\",\"hot_spring\", \"isthmus\",\"mud\",\"reef\",\n",
    "            \"shoal\",\"spring\",\"strait\",\"water\",\"wetland\"]) or row[\"tags.boundary\"] in [\"forest\",\"forest_compartment\",\"national_park\",\"protected_area\"]):\n",
    "            new_row_data = {\"Name\": row[\"tags.name\"],\"X\": row[\"lat\"],\"Y\": row[\"lon\"],\"Label\": 15}\n",
    "            new_row_df = pd.DataFrame([new_row_data], columns=columns)\n",
    "            final = pd.concat([final, new_row_df], ignore_index=True)\n",
    "            continue\n",
    "        if(row[\"tags.landuse\"] in [\"basin\",\"reservoir\",\"salt_pond\"] or type(row[\"tags.waterway\"])==str or row[\"tags.natural\"]\n",
    "           in [\"bay\",\"beach\",\"blowhole\",\"cape\",\"coastline\",\"crevasse\",\"geyser\",\"glacier\",\"hot_spring\",\"isthmus\",\"mud\",\n",
    "            \"reef\",\"shoal\",\"spring\",\"strait\",\"water\",\"wetland\"] or type(row[\"tags.NHD:FTYPE\"])==str):\n",
    "            new_row_data = {\"Name\": row[\"tags.name\"],\"X\": row[\"lat\"],\"Y\": row[\"lon\"],\"Label\": 16}\n",
    "            new_row_df = pd.DataFrame([new_row_data], columns=columns)\n",
    "            final = pd.concat([final, new_row_df], ignore_index=True)\n",
    "            continue\n",
    "        if(type(row[\"tags.route\"])==str):\n",
    "            new_row_data = {\"Name\": row[\"tags.name\"],\"X\": row[\"lat\"],\"Y\": row[\"lon\"],\"Label\": 17}\n",
    "            new_row_df = pd.DataFrame([new_row_data], columns=columns)\n",
    "            final = pd.concat([final, new_row_df], ignore_index=True)\n",
    "            continue\n",
    "        if(row[\"tags.place\"] in [\"neighbourhood\", \"city_block\",\"plot\",\"farm\"]):\n",
    "            new_row_data = {\"Name\": row[\"tags.name\"],\"X\": row[\"lat\"],\"Y\": row[\"lon\"],\"Label\": 18}\n",
    "            new_row_df = pd.DataFrame([new_row_data], columns=columns)\n",
    "            final = pd.concat([final, new_row_df], ignore_index=True)\n",
    "            continue\n",
    "        if(row[\"tags.amenity\"] in [\"marketplace\"] or row[\"tags.building\"] in [\"commercial\",\"industrial\",\"kiosk\",\"office\",\"retail\",\n",
    "            \"supermarket\",\"warehouse\",\"barn\",\"conservatory\",\"cowshed\",\"farm_auxiliary\",\"greenhouse\",\"slurry_tank\",\"stable\",\"sty\",\"livestock\"]\n",
    "              or type(row[\"tags.shop\"])==str or type(row[\"tags.brand\"])==str or row[\"tags.landuse\"] in [\"commercial\", \"construction\",\"industrial\",\"retail\",\"institutional\",\n",
    "            \"aquaculture\",\"allotments\",\"farmland\",\"farmyard\",\"paddy\",\"animal_keeping\",\"greenhouse_horticulture\",\n",
    "            \"plant_nursery\",\"vineyard\",\"depot\",\"garages\",\"port\",\"quarry\",\"railway\"]):\n",
    "            new_row_data = {\"Name\": row[\"tags.name\"],\"X\": row[\"lat\"],\"Y\": row[\"lon\"],\"Label\": 19}\n",
    "            new_row_df = pd.DataFrame([new_row_data], columns=columns)\n",
    "            final = pd.concat([final, new_row_df], ignore_index=True)\n",
    "            continue      \n",
    "        new_row_data = {\"Name\": row[\"tags.name\"],\"X\": row[\"lat\"],\"Y\": row[\"lon\"],\"Label\": 20}\n",
    "        new_row_df = pd.DataFrame([new_row_data], columns=columns)\n",
    "        final = pd.concat([final, new_row_df], ignore_index=True)\n",
    "    print(time.time())\n",
    "    return final\n",
    "def fullycleanedf(boundary):\n",
    "    n, w, r = cleaneddata(boundary)\n",
    "    clean_n = categorizedf(n)\n",
    "    clean_w = categorizedf(w)\n",
    "    clean_r = categorizedf(r)\n",
    "    cleaned_df = pd.concat([clean_n, clean_w, clean_r], ignore_index=True)\n",
    "    print(time.time())\n",
    "    return cleaned_df\n",
    "#mapcoordinate([[33.930124, -84.737658], [33.969074, -84.698486], [33.950073, -84.665274]])\n",
    "#print(boundarydata([[33.930124, -84.737658], [33.969074, -84.698486], [33.950073, -84.665274]],2))\n",
    "#print(coordinate(9137889))\n",
    "#type(coordinate(9137889))\n",
    "#x = boundary(1020125)\n",
    "#print(jsontodf(\"LostMountain\"))\n",
    "#Lost Mountain: [[33.930124, -84.737658], [33.969074, -84.698486], [33.950073, -84.665274]]\n",
    "#Upper Alabama: [[34.971507, -86.156501],[34.877694, -86.093169],[34.884261, -86.234892]]\n",
    "#Sutallee: [[34.246059, -84.635691],[34.191233, -84.654002],[34.216392, -84.603647]]\n",
    "#Acwoth: [[34.063968, -84.703106],[34.081080, -84.678814],[34.056670, -84.659844]]\n",
    "#TopLeftCobb: [[33.947153, -84.739508],[33.949712, -84.646773],[33.949712,-84.647547],[33.947153, -84.647547]]\n",
    "#CobbRectangle: [[34.078992, -84.737692],[33.746060, -84.741341],[]"
   ]
  },
  {
   "cell_type": "code",
   "execution_count": 22,
   "metadata": {
    "collapsed": false,
    "scrolled": true
   },
   "outputs": [
    {
     "name": "stdout",
     "output_type": "stream",
     "text": [
      "1695357628.0456262\n",
      "[out:json];way(poly:'33.803751 -84.622982 33.745533 -84.576977 33.804322 -84.500072');out;\n",
      "1695357630.565086\n",
      "[out:json];node(poly:'33.803751 -84.622982 33.745533 -84.576977 33.804322 -84.500072');out;\n",
      "1695357632.1890519\n",
      "[out:json];relation['name'](poly:'33.803751 -84.622982 33.745533 -84.576977 33.804322 -84.500072');out;\n",
      "1695357647.521225\n"
     ]
    },
    {
     "name": "stderr",
     "output_type": "stream",
     "text": [
      "/var/folders/zr/qxdch5rn2cg6_jm29j9f1lzm0000gn/T/ipykernel_16058/3825639774.py:189: SettingWithCopyWarning: \n",
      "A value is trying to be set on a copy of a slice from a DataFrame\n",
      "\n",
      "See the caveats in the documentation: https://pandas.pydata.org/pandas-docs/stable/user_guide/indexing.html#returning-a-view-versus-a-copy\n",
      "  namedways.drop('nodes', axis=1, inplace=True)\n"
     ]
    },
    {
     "name": "stdout",
     "output_type": "stream",
     "text": [
      "1695357648.4661381\n",
      "1695357648.5215309\n",
      "1695357648.714161\n",
      "1695357648.720969\n",
      "1695357648.721086\n",
      "1695357648.721266\n",
      "[out:json];way(poly:'33.859458 -84.724386 33.80722 -84.724386 33.859458 -84.45387 33.80722 -84.45387');out;\n",
      "1695357650.895571\n",
      "[out:json];node(poly:'33.859458 -84.724386 33.80722 -84.724386 33.859458 -84.45387 33.80722 -84.45387');out;\n",
      "1695357653.978946\n",
      "[out:json];relation['name'](poly:'33.859458 -84.724386 33.80722 -84.724386 33.859458 -84.45387 33.80722 -84.45387');out;\n",
      "1695357698.6230478\n"
     ]
    },
    {
     "name": "stderr",
     "output_type": "stream",
     "text": [
      "/var/folders/zr/qxdch5rn2cg6_jm29j9f1lzm0000gn/T/ipykernel_16058/3825639774.py:189: SettingWithCopyWarning: \n",
      "A value is trying to be set on a copy of a slice from a DataFrame\n",
      "\n",
      "See the caveats in the documentation: https://pandas.pydata.org/pandas-docs/stable/user_guide/indexing.html#returning-a-view-versus-a-copy\n",
      "  namedways.drop('nodes', axis=1, inplace=True)\n"
     ]
    },
    {
     "name": "stdout",
     "output_type": "stream",
     "text": [
      "1695357700.2371871\n",
      "1695357700.4082189\n",
      "1695357700.8427038\n",
      "1695357700.8520582\n",
      "1695357700.8521678\n",
      "1695357700.852706\n",
      "[out:json];way(poly:'33.859458 -84.724386 33.904208 -84.724386 33.859458 -84.440893 33.904208 -84.440893');out;\n",
      "1695357703.991331\n",
      "[out:json];node(poly:'33.859458 -84.724386 33.904208 -84.724386 33.859458 -84.440893 33.904208 -84.440893');out;\n",
      "1695357710.521688\n",
      "[out:json];relation['name'](poly:'33.859458 -84.724386 33.904208 -84.724386 33.859458 -84.440893 33.904208 -84.440893');out;\n",
      "1695357783.113493\n"
     ]
    },
    {
     "name": "stderr",
     "output_type": "stream",
     "text": [
      "/var/folders/zr/qxdch5rn2cg6_jm29j9f1lzm0000gn/T/ipykernel_16058/3825639774.py:189: SettingWithCopyWarning: \n",
      "A value is trying to be set on a copy of a slice from a DataFrame\n",
      "\n",
      "See the caveats in the documentation: https://pandas.pydata.org/pandas-docs/stable/user_guide/indexing.html#returning-a-view-versus-a-copy\n",
      "  namedways.drop('nodes', axis=1, inplace=True)\n"
     ]
    },
    {
     "name": "stdout",
     "output_type": "stream",
     "text": [
      "1695357786.239464\n",
      "1695357786.671772\n",
      "1695357787.382849\n",
      "1695357787.40357\n",
      "1695357787.403695\n",
      "1695357787.4047308\n",
      "[out:json];way(poly:'33.943697 -84.403741 33.947531 -84.723666 33.904208 -84.403741 33.904208 -84.723666');out;\n",
      "1695357789.8390641\n",
      "[out:json];node(poly:'33.943697 -84.403741 33.947531 -84.723666 33.904208 -84.403741 33.904208 -84.723666');out;\n",
      "1695357793.3560572\n",
      "[out:json];relation['name'](poly:'33.943697 -84.403741 33.947531 -84.723666 33.904208 -84.403741 33.904208 -84.723666');out;\n",
      "1695357839.744364\n"
     ]
    },
    {
     "name": "stderr",
     "output_type": "stream",
     "text": [
      "/var/folders/zr/qxdch5rn2cg6_jm29j9f1lzm0000gn/T/ipykernel_16058/3825639774.py:189: SettingWithCopyWarning: \n",
      "A value is trying to be set on a copy of a slice from a DataFrame\n",
      "\n",
      "See the caveats in the documentation: https://pandas.pydata.org/pandas-docs/stable/user_guide/indexing.html#returning-a-view-versus-a-copy\n",
      "  namedways.drop('nodes', axis=1, inplace=True)\n"
     ]
    },
    {
     "name": "stdout",
     "output_type": "stream",
     "text": [
      "1695357842.437105\n",
      "1695357842.680453\n",
      "1695357843.284019\n",
      "1695357843.300001\n",
      "1695357843.3001118\n",
      "1695357843.30075\n",
      "[out:json];way(poly:'33.947557 -84.739562 33.947557 -84.37455 33.991414 -84.37455 33.991414 -84.739562');out;\n",
      "1695357847.942079\n",
      "[out:json];node(poly:'33.947557 -84.739562 33.947557 -84.37455 33.991414 -84.37455 33.991414 -84.739562');out;\n",
      "1695357862.1993432\n",
      "[out:json];relation['name'](poly:'33.947557 -84.739562 33.947557 -84.37455 33.991414 -84.37455 33.991414 -84.739562');out;\n",
      "1695358110.650532\n"
     ]
    },
    {
     "name": "stderr",
     "output_type": "stream",
     "text": [
      "/var/folders/zr/qxdch5rn2cg6_jm29j9f1lzm0000gn/T/ipykernel_16058/3825639774.py:189: SettingWithCopyWarning: \n",
      "A value is trying to be set on a copy of a slice from a DataFrame\n",
      "\n",
      "See the caveats in the documentation: https://pandas.pydata.org/pandas-docs/stable/user_guide/indexing.html#returning-a-view-versus-a-copy\n",
      "  namedways.drop('nodes', axis=1, inplace=True)\n"
     ]
    },
    {
     "name": "stdout",
     "output_type": "stream",
     "text": [
      "1695358113.069995\n",
      "1695358113.779765\n",
      "1695358114.997296\n",
      "1695358115.016098\n",
      "1695358115.0162299\n",
      "1695358115.0174348\n",
      "[out:json];way(poly:'33.991414 -84.739562 33.991414 -84.37455 34.035271 -84.37455 34.035271 -84.739562');out;\n",
      "1695358118.71311\n",
      "[out:json];node(poly:'33.991414 -84.739562 33.991414 -84.37455 34.035271 -84.37455 34.035271 -84.739562');out;\n",
      "1695358134.466205\n",
      "[out:json];relation['name'](poly:'33.991414 -84.739562 33.991414 -84.37455 34.035271 -84.37455 34.035271 -84.739562');out;\n",
      "1695358454.052646\n"
     ]
    },
    {
     "name": "stderr",
     "output_type": "stream",
     "text": [
      "/var/folders/zr/qxdch5rn2cg6_jm29j9f1lzm0000gn/T/ipykernel_16058/3825639774.py:189: SettingWithCopyWarning: \n",
      "A value is trying to be set on a copy of a slice from a DataFrame\n",
      "\n",
      "See the caveats in the documentation: https://pandas.pydata.org/pandas-docs/stable/user_guide/indexing.html#returning-a-view-versus-a-copy\n",
      "  namedways.drop('nodes', axis=1, inplace=True)\n"
     ]
    },
    {
     "name": "stdout",
     "output_type": "stream",
     "text": [
      "1695358456.338318\n",
      "1695358457.041844\n",
      "1695358458.384325\n",
      "1695358458.400981\n",
      "1695358458.401118\n",
      "1695358458.402889\n",
      "[out:json];way(poly:'34.035271 -84.739562 34.035271 -84.37455 34.079128 -84.37455 34.079128 -84.739562');out;\n",
      "1695358461.929591\n",
      "[out:json];node(poly:'34.035271 -84.739562 34.035271 -84.37455 34.079128 -84.37455 34.079128 -84.739562');out;\n",
      "1695358474.666046\n",
      "[out:json];relation['name'](poly:'34.035271 -84.739562 34.035271 -84.37455 34.079128 -84.37455 34.079128 -84.739562');out;\n",
      "1695358812.254282\n"
     ]
    },
    {
     "name": "stderr",
     "output_type": "stream",
     "text": [
      "/var/folders/zr/qxdch5rn2cg6_jm29j9f1lzm0000gn/T/ipykernel_16058/3825639774.py:189: SettingWithCopyWarning: \n",
      "A value is trying to be set on a copy of a slice from a DataFrame\n",
      "\n",
      "See the caveats in the documentation: https://pandas.pydata.org/pandas-docs/stable/user_guide/indexing.html#returning-a-view-versus-a-copy\n",
      "  namedways.drop('nodes', axis=1, inplace=True)\n"
     ]
    },
    {
     "name": "stdout",
     "output_type": "stream",
     "text": [
      "1695358814.6098099\n",
      "1695358815.282815\n",
      "1695358816.484983\n",
      "1695358816.498341\n",
      "1695358816.4985201\n"
     ]
    },
    {
     "ename": "NameError",
     "evalue": "name 'LowerTri' is not defined",
     "output_type": "error",
     "traceback": [
      "\u001b[0;31m---------------------------------------------------------------------------\u001b[0m",
      "\u001b[0;31mNameError\u001b[0m                                 Traceback (most recent call last)",
      "Cell \u001b[0;32mIn[22], line 8\u001b[0m\n\u001b[1;32m      6\u001b[0m SixthRect \u001b[38;5;241m=\u001b[39m fullycleanedf([[\u001b[38;5;241m33.991414\u001b[39m, \u001b[38;5;241m-\u001b[39m\u001b[38;5;241m84.739562\u001b[39m], [\u001b[38;5;241m33.991414\u001b[39m, \u001b[38;5;241m-\u001b[39m\u001b[38;5;241m84.37455\u001b[39m], [\u001b[38;5;241m34.035271\u001b[39m, \u001b[38;5;241m-\u001b[39m\u001b[38;5;241m84.37455\u001b[39m], [\u001b[38;5;241m34.035271\u001b[39m, \u001b[38;5;241m-\u001b[39m\u001b[38;5;241m84.739562\u001b[39m]])\n\u001b[1;32m      7\u001b[0m SeventhRect \u001b[38;5;241m=\u001b[39m fullycleanedf([[\u001b[38;5;241m34.035271\u001b[39m, \u001b[38;5;241m-\u001b[39m\u001b[38;5;241m84.739562\u001b[39m], [\u001b[38;5;241m34.035271\u001b[39m, \u001b[38;5;241m-\u001b[39m\u001b[38;5;241m84.37455\u001b[39m], [\u001b[38;5;241m34.079128\u001b[39m, \u001b[38;5;241m-\u001b[39m\u001b[38;5;241m84.37455\u001b[39m], [\u001b[38;5;241m34.079128\u001b[39m, \u001b[38;5;241m-\u001b[39m\u001b[38;5;241m84.739562\u001b[39m]])\n\u001b[0;32m----> 8\u001b[0m cleaned_df \u001b[38;5;241m=\u001b[39m pd\u001b[38;5;241m.\u001b[39mconcat([LowerTri, FirstRect,SecondRect,ThirdRect,FifthRect,SixthRect,SeventhRect], ignore_index\u001b[38;5;241m=\u001b[39m\u001b[38;5;28;01mTrue\u001b[39;00m)\n\u001b[1;32m      9\u001b[0m file_path4 \u001b[38;5;241m=\u001b[39m \u001b[38;5;124m'\u001b[39m\u001b[38;5;124mCleanedDataCobb.csv\u001b[39m\u001b[38;5;124m'\u001b[39m\n\u001b[1;32m     10\u001b[0m cleaned_df\u001b[38;5;241m.\u001b[39mto_csv(file_path4, index\u001b[38;5;241m=\u001b[39m\u001b[38;5;28;01mFalse\u001b[39;00m)\n",
      "\u001b[0;31mNameError\u001b[0m: name 'LowerTri' is not defined"
     ]
    }
   ],
   "source": [
    "p = time.time()\n",
    "Lowertri = fullycleanedf([[33.803751, -84.622982],[33.745533, -84.576977],[33.804322, -84.500072]])\n",
    "FirstRect = fullycleanedf([[33.80722, -84.724386], [33.80722, -84.45387], [33.859458, -84.45387], [33.859458, -84.724386]])\n",
    "SecondRect = fullycleanedf([[33.859458, -84.724386], [33.859458, -84.440893], [33.904208, -84.440893], [33.904208, -84.724386]])\n",
    "ThirdRect = fullycleanedf([[33.904208, -84.723666], [33.904208, -84.403741], [33.947531, -84.403741], [33.947531, -84.723666]])\n",
    "FifthRect = fullycleanedf([[33.947557, -84.739562], [33.947557, -84.37455], [33.991414, -84.37455], [33.991414, -84.739562]])\n",
    "SixthRect = fullycleanedf([[33.991414, -84.739562], [33.991414, -84.37455], [34.035271, -84.37455], [34.035271, -84.739562]])\n",
    "SeventhRect = fullycleanedf([[34.035271, -84.739562], [34.035271, -84.37455], [34.079128, -84.37455], [34.079128, -84.739562]])\n",
    "cleaned_df = pd.concat([Lowertri, FirstRect,SecondRect,ThirdRect,FifthRect,SixthRect,SeventhRect], ignore_index=True)\n",
    "file_path4 = 'CleanedDataCobb.csv'\n",
    "cleaned_df.to_csv(file_path4, index=False)\n",
    "print(time.time()-p)\n",
    "#Runtime: 27 minutes"
   ]
  },
  {
   "cell_type": "code",
   "execution_count": 0,
   "metadata": {
    "collapsed": false
   },
   "outputs": [
   ],
   "source": [
    "'''\n",
    "LowerTri: [[33.803751, -84.622982],[33.745533, -84.576977],[33.804322, -84.500072]]\n",
    "FirstRect: [[33.859458, -84.724386],[33.807220, -84.724386],[33.859458, -84.453870], [33.807220, -84.453870]]\n",
    "SecRect: [[33.859458, -84.724386],[33.904208,-84.724386], [33.859458, -84.440893],[33.904208, -84.440893]]\n",
    "ThrRect: [[33.943697, -84.403741], [33.947531, -84.723666], [33.904208,-84.403741],[33.904208,-84.723666]]\n",
    "FthRect: [[33.947557, -84.739562], [33.947557, -84.37455], [33.991414, -84.37455], [33.991414, -84.739562]]\n",
    "SxthRect: [[33.991414, -84.739562], [33.991414, -84.37455], [34.035271, -84.37455], [34.035271, -84.739562]]\n",
    "SvthRect: [[34.035271, -84.739562], [34.035271, -84.37455], [34.079128, -84.37455], [34.079128, -84.739562]]\n",
    "'''"
   ]
  },
  {
   "cell_type": "code",
   "execution_count": 0,
   "metadata": {
    "collapsed": false
   },
   "outputs": [
   ],
   "source": [
    "file_path1 = 'NamedNodes.csv'\n",
    "x.to_csv(file_path1, index=False)\n",
    "file_path2 = 'NamedWays.csv'\n",
    "y.to_csv(file_path2, index=False)\n",
    "file_path3 = 'NamedRelations.csv'\n",
    "z.to_csv(file_path3, index=False)\n",
    "file_path4 = 'LabeledWays.csv'\n",
    "p.to_csv(file_path4, index=False)"
   ]
  },
  {
   "cell_type": "code",
   "execution_count": 0,
   "metadata": {
    "collapsed": false
   },
   "outputs": [
   ],
   "source": [
    "'''\n",
    "List of Categories:\n",
    "Sustenance(Food): 0\n",
    "Education: 1\n",
    "Transportation: 2\n",
    "Financial: 3\n",
    "Healthcare: 4\n",
    "Entertainment1: 5\n",
    "Entertainment2: 6\n",
    "PublicService1: 7\n",
    "PublicService2: 8\n",
    "Other: 9\n",
    "Church: 10\n",
    "Road: 11\n",
    "Individual Building: 12\n",
    "Group Building: 13\n",
    "Complex Historic: 14\n",
    "Nature: 15\n",
    "Water: 16\n",
    "Route: 17\n",
    "Group Place: 18\n",
    "Commercial + Agriculture: 19\n",
    "Not categorized: 20\n",
    "'''"
   ]
  },
  {
   "cell_type": "code",
   "execution_count": 26,
   "metadata": {
    "collapsed": false
   },
   "outputs": [
    {
     "name": "stdout",
     "output_type": "stream",
     "text": [
      "Ran Successfully\n"
     ]
    }
   ],
   "source": [
    "mapcoordinate([[33.859458, -84.724386],[33.807220, -84.724386],[33.859458, -84.453870], [33.807220, -84.453870]])"
   ]
  },
  {
   "cell_type": "code",
   "execution_count": 23,
   "metadata": {
    "collapsed": false
   },
   "outputs": [
   ],
   "source": [
    "cleaned_df = pd.concat([Lowertri, FirstRect,SecondRect,ThirdRect,FifthRect,SixthRect,SeventhRect], ignore_index=True)\n",
    "file_path4 = 'CleanedDataCobb.csv'\n",
    "cleaned_df.to_csv(file_path4, index=False)"
   ]
  },
  {
   "cell_type": "code",
   "execution_count": 27,
   "metadata": {
    "collapsed": false
   },
   "outputs": [
    {
     "name": "stdout",
     "output_type": "stream",
     "text": [
      "                                           Name          X          Y Label\n",
      "0                                  Nickajack DD  33.837842 -84.539720    20\n",
      "1                                       Oakdale  33.818717 -84.497709    18\n",
      "2                                     Pine Oaks  33.835661 -84.687435    18\n",
      "3                             Deerbrook Estates  33.838439 -84.698824    18\n",
      "4                                    Mann Manor  33.837883 -84.704380    18\n",
      "...                                         ...        ...        ...   ...\n",
      "2125    Silver Comet Trail Cumberland Connector  33.845473 -84.499372    17\n",
      "2126                 Whetstone Creek PATH Trail  33.819917 -84.455361    17\n",
      "2127  Colonial Pipeline | Atlanta -> Bainbridge  33.832127 -84.629838    17\n",
      "2128           Atlanta Terminal Subdivision (A)  33.825014 -84.464219    17\n",
      "2129  Colonial Pipeline - Atlanta -> Bainbridge  33.832127 -84.629838    17\n",
      "\n",
      "[2130 rows x 4 columns]\n"
     ]
    }
   ],
   "source": [
    "print(FirstRect)\n",
    "file_path4 = 'CleanedDataFirstRect.csv'\n",
    "FirstRect.to_csv(file_path4, index=False)"
   ]
  },
  {
   "cell_type": "code",
   "execution_count": 28,
   "metadata": {
    "collapsed": false
   },
   "outputs": [
    {
     "name": "stdout",
     "output_type": "stream",
     "text": [
      "33.859458 -84.724386 33.80722 -84.724386 33.859458 -84.45387 33.80722 -84.45387\n"
     ]
    }
   ],
   "source": [
    "print(polystring([[33.859458, -84.724386],[33.807220, -84.724386],[33.859458, -84.453870], [33.807220, -84.453870]]))"
   ]
  },
  {
   "cell_type": "code",
   "execution_count": 2,
   "metadata": {
    "collapsed": false
   },
   "outputs": [
    {
     "data": {
      "image/png": "[encoded data removed]",
      "text/plain": [
       "<Figure size 864x504 with 1 Axes>"
      ]
     },
     "execution_count": 2,
     "metadata": {
      "image/png": {
       "height": 440,
       "width": 733
      },
      "needs_background": "light"
     },
     "output_type": "execute_result"
    }
   ],
   "source": [
    "import matplotlib.pyplot as plt\n",
    "\n",
    "# Function to extract coordinates from the given list of points\n",
    "def extract_coordinates(points):\n",
    "    return [point[1] for point in points], [point[0] for point in points]\n",
    "\n",
    "# Data for different sets of points\n",
    "lower_tri = [[33.803751, -84.622982],[33.745533, -84.576977],[33.804322, -84.500072]]\n",
    "first_rect = [[33.859458, -84.724386],[33.807220, -84.724386],[33.859458, -84.453870], [33.807220, -84.453870]]\n",
    "second_rect = [[33.859458, -84.724386],[33.904208,-84.724386], [33.859458, -84.440893],[33.904208, -84.440893]]\n",
    "third_rect = [[33.943697, -84.403741], [33.947531, -84.723666], [33.904208,-84.403741],[33.904208,-84.723666]]\n",
    "fifth_rect = [[33.947557, -84.739562], [33.947557, -84.37455], [33.991414, -84.37455], [33.991414, -84.739562]]\n",
    "sixth_rect = [[33.991414, -84.739562], [33.991414, -84.37455], [34.035271, -84.37455], [34.035271, -84.739562]]\n",
    "seventh_rect = [[34.035271, -84.739562], [34.035271, -84.37455], [34.079128, -84.37455], [34.079128, -84.739562]]\n",
    "\n",
    "# Extract coordinates for plotting\n",
    "x_lower_tri, y_lower_tri = extract_coordinates(lower_tri)\n",
    "x_first_rect, y_first_rect = extract_coordinates(first_rect)\n",
    "x_second_rect, y_second_rect = extract_coordinates(second_rect)\n",
    "x_third_rect, y_third_rect = extract_coordinates(third_rect)\n",
    "x_fifth_rect, y_fifth_rect = extract_coordinates(fifth_rect)\n",
    "x_sixth_rect, y_sixth_rect = extract_coordinates(sixth_rect)\n",
    "x_seventh_rect, y_seventh_rect = extract_coordinates(seventh_rect)\n",
    "\n",
    "# Plotting the points with different colors\n",
    "plt.scatter(x_lower_tri, y_lower_tri, color='red', label='Lower Triangle')\n",
    "plt.scatter(x_first_rect, y_first_rect, color='blue', label='First Rectangle')\n",
    "plt.scatter(x_second_rect, y_second_rect, color='green', label='Second Rectangle')\n",
    "plt.scatter(x_third_rect, y_third_rect, color='purple', label='Third Rectangle')\n",
    "plt.scatter(x_fifth_rect, y_fifth_rect, color='orange', label='Fifth Rectangle')\n",
    "plt.scatter(x_sixth_rect, y_sixth_rect, color='cyan', label='Sixth Rectangle')\n",
    "plt.scatter(x_seventh_rect, y_seventh_rect, color='magenta', label='Seventh Rectangle')\n",
    "\n",
    "# Set labels and title\n",
    "plt.xlabel('Longitude')\n",
    "plt.ylabel('Latitude')\n",
    "plt.title('Sets of Points')\n",
    "\n",
    "# Add legend\n",
    "plt.legend()\n",
    "\n",
    "# Show the plot\n",
    "plt.show()\n"
   ]
  },
  {
   "cell_type": "code",
   "execution_count": 3,
   "metadata": {
    "collapsed": false
   },
   "outputs": [
    {
     "name": "stdout",
     "output_type": "stream",
     "text": [
      "[[34.035271, -84.739562], [34.035271, -84.37455], [34.079128, -84.37455], [34.079128, -84.739562]]\n",
      "34.035271 -84.739562 34.035271 -84.37455 34.079128 -84.37455 34.079128 -84.739562\n"
     ]
    }
   ],
   "source": [
    "def makepoly(x):\n",
    "    minlat, minlon = float('inf'), float('inf')\n",
    "    maxlat, maxlon = -float('inf'),-float('inf')\n",
    "    for i in x:\n",
    "        minlat = min(minlat,i[0])\n",
    "        maxlat = max(maxlat,i[0])\n",
    "        minlon = min(minlon,i[1])\n",
    "        maxlon = max(maxlon,i[1])\n",
    "    return [[minlat,minlon],[minlat,maxlon],[maxlat,maxlon],[maxlat,minlon]]\n",
    "\n",
    "p = makepoly([[34.035271, -84.739562], [34.035271, -84.37455], [34.079128, -84.37455], [34.079128, -84.739562]])\n",
    "def polystring(boundarylist):\n",
    "    string = \"\"\n",
    "    for i in boundarylist:\n",
    "        string+=str(i[0]) + \" \"\n",
    "        string+=str(i[1]) + \" \"\n",
    "    return string[:-1]\n",
    "\n",
    "print(p)\n",
    "print(polystring(p))"
   ]
  },
  {
   "cell_type": "code",
   "execution_count": 0,
   "metadata": {
    "collapsed": false
   },
   "outputs": [
   ],
   "source": [
   ]
  }
 ],
 "metadata": {
  "kernelspec": {
   "argv": [
    "/usr/bin/python3",
    "-m",
    "ipykernel",
    "--HistoryManager.enabled=False",
    "--matplotlib=inline",
    "-c",
    "%config InlineBackend.figure_formats = set(['retina'])\nimport matplotlib; matplotlib.rcParams['figure.figsize'] = (12, 7)",
    "-f",
    "{connection_file}"
   ],
   "display_name": "Python 3 (system-wide)",
   "env": {
   },
   "language": "python",
   "metadata": {
    "cocalc": {
     "description": "Python 3 programming language",
     "priority": 100,
     "url": "https://www.python.org/"
    }
   },
   "name": "python3",
   "resource_dir": "/ext/jupyter/kernels/python3"
  },
  "language_info": {
   "codemirror_mode": {
    "name": "ipython",
    "version": 3
   },
   "file_extension": ".py",
   "mimetype": "text/x-python",
   "name": "python",
   "nbconvert_exporter": "python",
   "pygments_lexer": "ipython3",
   "version": "3.11.4"
  }
 },
 "nbformat": 4,
 "nbformat_minor": 4
}