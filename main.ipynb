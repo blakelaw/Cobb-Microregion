{
 "cells": [
  {
   "cell_type": "raw",
   "source": [],
   "metadata": {
    "collapsed": false
   },
   "id": "fb55bc173eb68bb"
  },
  {
   "cell_type": "code",
   "execution_count": 9,
   "outputs": [
    {
     "ename": "ModuleNotFoundError",
     "evalue": "No module named 'folium'",
     "output_type": "error",
     "traceback": [
      "\u001B[0;31m---------------------------------------------------------------------------\u001B[0m",
      "\u001B[0;31mModuleNotFoundError\u001B[0m                       Traceback (most recent call last)",
      "Cell \u001B[0;32mIn[9], line 4\u001B[0m\n\u001B[1;32m      2\u001B[0m \u001B[38;5;28;01mimport\u001B[39;00m \u001B[38;5;21;01mtime\u001B[39;00m\n\u001B[1;32m      3\u001B[0m \u001B[38;5;28;01mimport\u001B[39;00m \u001B[38;5;21;01mrequests\u001B[39;00m\n\u001B[0;32m----> 4\u001B[0m \u001B[38;5;28;01mimport\u001B[39;00m \u001B[38;5;21;01mfolium\u001B[39;00m\n",
      "\u001B[0;31mModuleNotFoundError\u001B[0m: No module named 'folium'"
     ]
    }
   ],
   "source": [
    "import pandas as pd\n",
    "import time\n",
    "import requests\n",
    "import folium"
   ],
   "metadata": {
    "collapsed": false,
    "ExecuteTime": {
     "end_time": "2023-09-19T03:24:25.639780Z",
     "start_time": "2023-09-19T03:24:25.605536Z"
    }
   },
   "id": "37161b4605345b05"
  },
  {
   "cell_type": "code",
   "execution_count": 11,
   "id": "initial_id",
   "metadata": {
    "collapsed": true,
    "ExecuteTime": {
     "end_time": "2023-09-19T03:28:12.350865Z",
     "start_time": "2023-09-19T03:28:12.337247Z"
    }
   },
   "outputs": [
    {
     "ename": "TypeError",
     "evalue": "mapcoordinate() takes 1 positional argument but 3 were given",
     "output_type": "error",
     "traceback": [
      "\u001B[0;31m---------------------------------------------------------------------------\u001B[0m",
      "\u001B[0;31mTypeError\u001B[0m                                 Traceback (most recent call last)",
      "Cell \u001B[0;32mIn[11], line 103\u001B[0m\n\u001B[1;32m    100\u001B[0m         folium\u001B[38;5;241m.\u001B[39mMarker(coord)\u001B[38;5;241m.\u001B[39madd_to(m)\n\u001B[1;32m    101\u001B[0m     m\u001B[38;5;241m.\u001B[39msave(\u001B[38;5;124m'\u001B[39m\u001B[38;5;124mmap.html\u001B[39m\u001B[38;5;124m'\u001B[39m)\n\u001B[0;32m--> 103\u001B[0m mapcoordinate([\u001B[38;5;241m33.930124\u001B[39m, \u001B[38;5;241m-\u001B[39m\u001B[38;5;241m84.737658\u001B[39m], [\u001B[38;5;241m33.969074\u001B[39m, \u001B[38;5;241m-\u001B[39m\u001B[38;5;241m84.698486\u001B[39m], [\u001B[38;5;241m33.950073\u001B[39m, \u001B[38;5;241m-\u001B[39m\u001B[38;5;241m84.665274\u001B[39m])\n",
      "\u001B[0;31mTypeError\u001B[0m: mapcoordinate() takes 1 positional argument but 3 were given"
     ]
    }
   ],
   "source": [
    "#polystring method\n",
    "'''\n",
    "Input boundary list e.g. [[33.930124, -84.737658], [33.969074, -84.698486], [33.950073, -84.665274]]\n",
    "and then it will format it appropriately for the query syntax\n",
    "\n",
    "'''\n",
    "def polystring(boundarylist):\n",
    "    string = \"\"\n",
    "    for i in boundarylist:\n",
    "        string+=str(i[0]) + \" \"\n",
    "        string+=str(i[1]) + \" \"\n",
    "    return string[:-1]\n",
    "#boundarydata method:\n",
    "'''\n",
    "Input a boundarylist, a list of list of latitudes and longitudes, e.g. \n",
    "[[33.930124, -84.737658], [33.969074, -84.698486], [33.950073, -84.665274]]\n",
    "and then pick a setting, to get all nodes, relations, or ways in that boundary\n",
    "outputted as a dataframe.\n",
    "\n",
    "Nodes = 0\n",
    "Ways = 1\n",
    "Relations = 2\n",
    "'''   \n",
    "    \n",
    "def boundarydata(boundarylist,setting):\n",
    "    boundarystring = polystring(boundarylist)\n",
    "    overpass_url = \"http://overpass-api.de/api/interpreter\"\n",
    "    if setting==0:\n",
    "        overpass_query = f\"[out:json];node(poly:'{boundarystring}');out;\"\n",
    "    elif setting==1:\n",
    "        overpass_query = f\"[out:json];way(poly:'{boundarystring}');out;\"\n",
    "    elif setting==2:\n",
    "        overpass_query = f\"[out:json];relation(poly:'{boundarystring}');out;\"\n",
    "    else:\n",
    "        print(\"Invalid Setting\")\n",
    "        return None\n",
    "    try:\n",
    "        response = requests.get(overpass_url, params={'data': overpass_query})\n",
    "        response = response.json()\n",
    "        df = pd.json_normalize(response['elements'])\n",
    "    except Exception as e:\n",
    "        print(e)\n",
    "        return None\n",
    "    return df  \n",
    "#coordinate method\n",
    "'''\n",
    "Give a way ID, it returns the average latitude and longitude of that way, taking the average\n",
    "of the nodes that it consists of\n",
    "'''\n",
    "def coordinate(way):\n",
    "    overpass_url = \"http://overpass-api.de/api/interpreter\"\n",
    "    overpass_query = f\"[out:json];way({way});node(w);out;\"\n",
    "    try:\n",
    "        response = requests.get(overpass_url, params={'data': overpass_query})\n",
    "        response = response.json()\n",
    "        flat=flon=count=0\n",
    "        for i in (response['elements']):\n",
    "            flat+=i['lat'] #running total of latitude\n",
    "            flon+=i['lon'] #running total of longitude\n",
    "            count+=1 #count of number of pairs \n",
    "        if(count==0):\n",
    "            print(\"Error\",way)\n",
    "            return (None, None)\n",
    "    except Exception as e:\n",
    "        print(\"Error\",way, e)\n",
    "        return (None, None)\n",
    "    return flat / count, flon / count\n",
    "#boundary method\n",
    "'''\n",
    "Given a county's ID, like Cobb, it will return the set of latitude and longitudes that define its \n",
    "boundary. Note: this may need finetuning and it can be visualized with the next method.\n",
    "'''\n",
    "def boundary(county):\n",
    "    boundaryset = []\n",
    "    overpass_url = \"http://overpass-api.de/api/interpreter\"\n",
    "    overpass_query = f\"[out:json];rel({county});out;\"\n",
    "    try:\n",
    "        response = requests.get(overpass_url, params={'data': overpass_query})\n",
    "        response = response.json()\n",
    "        for i in (response['elements'][0]['members']):\n",
    "            if i['type']== 'way' and i['role']== 'outer':\n",
    "                coord = coordinate(i['ref'])\n",
    "                if coord[0]:\n",
    "                    boundaryset.append(coord)\n",
    "            time.sleep(1)\n",
    "    except:\n",
    "        print(\"Error\", county)\n",
    "        return None\n",
    "    return boundaryset\n",
    "\n",
    "def mapcoordinate(coordinates):\n",
    "    lattot = 0\n",
    "    longtot = 0\n",
    "    numcoord = len(coordinates)\n",
    "    for i in coordinates:\n",
    "        lattot += i[0]\n",
    "        longtot += i[1]\n",
    "    m = folium.Map(location=[lattot/numcoord, longtot/numcoord], zoom_start=12)\n",
    "    for coord in coordinates:\n",
    "        folium.Marker(coord).add_to(m)\n",
    "    m.save('map.html')\n",
    "\n",
    "mapcoordinate([33.930124, -84.737658], [33.969074, -84.698486], [33.950073, -84.665274])"
   ]
  },
  {
   "cell_type": "code",
   "execution_count": null,
   "outputs": [],
   "source": [],
   "metadata": {
    "collapsed": false
   },
   "id": "49665ef542af8e4a"
  }
 ],
 "metadata": {
  "kernelspec": {
   "display_name": "Python 3",
   "language": "python",
   "name": "python3"
  },
  "language_info": {
   "codemirror_mode": {
    "name": "ipython",
    "version": 2
   },
   "file_extension": ".py",
   "mimetype": "text/x-python",
   "name": "python",
   "nbconvert_exporter": "python",
   "pygments_lexer": "ipython2",
   "version": "2.7.6"
  }
 },
 "nbformat": 4,
 "nbformat_minor": 5
}
